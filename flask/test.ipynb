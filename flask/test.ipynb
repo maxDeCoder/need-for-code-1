{
 "cells": [
  {
   "cell_type": "code",
   "execution_count": 1,
   "metadata": {},
   "outputs": [],
   "source": [
    "#importing data\n",
    "import numpy as np\n",
    "import pandas as pd\n",
    "import ML_module\n",
    "import random"
   ]
  },
  {
   "cell_type": "code",
   "execution_count": 2,
   "metadata": {},
   "outputs": [],
   "source": [
    "df = pd.read_csv(\"./dataset/career_pred.csv\")\n",
    "# convert all the columns names to lower case and save the file to csv format at the same location\n",
    "df.columns = [col.lower() for col in df.columns]\n",
    "df.to_csv(\"./dataset/career_pred.csv\", index=False)\n",
    "df = df[df.columns[:-1]]"
   ]
  },
  {
   "cell_type": "code",
   "execution_count": 3,
   "metadata": {},
   "outputs": [
    {
     "name": "stdout",
     "output_type": "stream",
     "text": [
      "30\n"
     ]
    }
   ],
   "source": [
    "exclusion = [\n",
    "    'hours working per day',\n",
    "    'logical quotient rating',\n",
    "    'hackathons',\n",
    "    'coding skills rating',\n",
    "    'public speaking points']\n",
    "items_1 = [\n",
    "    'acedamic percentage in Operating Systems', \n",
    "    'percentage in Algorithms',\n",
    "    'Percentage in Programming Concepts',\n",
    "    'Percentage in Software Engineering', \n",
    "    'Percentage in Computer Networks',\n",
    "    'Percentage in Electronics Subjects',\n",
    "    'Percentage in Computer Architecture', \n",
    "    'Percentage in Mathematics',\n",
    "    'Percentage in Communication skills']\n",
    "items_2 = [\n",
    "    'can work long time before system?',\n",
    "    'self-learning capability?', \n",
    "    'Extra-courses did',\n",
    "    'Management or Technical', \n",
    "    'Salary/work', \n",
    "    'hard/smart worker', \n",
    "    'worked in teams ever?', \n",
    "    'Introvert', \n",
    "    'Job/Higher Studies?']\n",
    "items_3 = [\n",
    "    'certifications',\n",
    "    'workshops',\n",
    "    'reading and writing skills',\n",
    "    'memory capability score',\n",
    "    'Interested subjects',\n",
    "    'interested career area',\n",
    "    'Type of company want to settle in?']\n",
    "\n",
    "# convert all the lists above to have lower case strings\n",
    "exclusion = [i.lower() for i in exclusion]\n",
    "items_1 = [item.lower() for item in items_1]\n",
    "items_2 = [item.lower() for item in items_2]\n",
    "items_3 = [item.lower() for item in items_3]\n",
    "\n",
    "print(len(items_1+items_2+items_3+exclusion))\n",
    "\n",
    "df=df[items_1+items_2+items_3+exclusion]"
   ]
  },
  {
   "cell_type": "code",
   "execution_count": 4,
   "metadata": {},
   "outputs": [],
   "source": [
    "multi_valued = [\"certifications\", \"workshops\", \"Interested subjects\", \"Interested Career Area\", 'Type of company want to settle in?']\n",
    "multi_valued = [item.lower() for item in multi_valued]"
   ]
  },
  {
   "cell_type": "code",
   "execution_count": 5,
   "metadata": {},
   "outputs": [],
   "source": [
    "model = ML_module.CareerAdvisor(\"./models/main.h5\")"
   ]
  },
  {
   "cell_type": "code",
   "execution_count": 6,
   "metadata": {},
   "outputs": [],
   "source": [
    "x = dict(df.iloc[0])\n",
    "x[multi_valued[0]] = [\"shell programming\", \"machine learning\"]\n",
    "x[multi_valued[1]] = [\"cloud computing\", \"database security\"]\n",
    "x[multi_valued[2]] = [\"IOT\", \"data engineering\"]\n",
    "x[multi_valued[3]] = ['system developer', 'Business process analyst']\n",
    "x[multi_valued[4]] = ['Web Services', 'SAaS services']"
   ]
  },
  {
   "cell_type": "code",
   "execution_count": 7,
   "metadata": {},
   "outputs": [],
   "source": [
    "x = model.permutate(x)"
   ]
  },
  {
   "cell_type": "code",
   "execution_count": 8,
   "metadata": {},
   "outputs": [],
   "source": [
    "_input = np.array(model.preprocess(x))"
   ]
  },
  {
   "cell_type": "code",
   "execution_count": 9,
   "metadata": {},
   "outputs": [
    {
     "data": {
      "text/plain": [
       "(32, 30)"
      ]
     },
     "execution_count": 9,
     "metadata": {},
     "output_type": "execute_result"
    }
   ],
   "source": [
    "_input.shape"
   ]
  },
  {
   "cell_type": "code",
   "execution_count": 13,
   "metadata": {},
   "outputs": [],
   "source": [
    "list_of_careers = []\n",
    "for i in range(0, len(_input)):\n",
    "    top = model.get_top(_input[i], 5)\n",
    "    list_of_careers.extend(top)\n",
    "list_of_careers = list(set(list_of_careers))"
   ]
  },
  {
   "cell_type": "code",
   "execution_count": 14,
   "metadata": {},
   "outputs": [
    {
     "data": {
      "text/plain": [
       "[22, 25, 26, 28, 29]"
      ]
     },
     "execution_count": 14,
     "metadata": {},
     "output_type": "execute_result"
    }
   ],
   "source": [
    "list_of_careers"
   ]
  },
  {
   "cell_type": "code",
   "execution_count": 9,
   "metadata": {},
   "outputs": [
    {
     "name": "stdout",
     "output_type": "stream",
     "text": [
      "Model: \"model_1\"\n",
      "__________________________________________________________________________________________________\n",
      " Layer (type)                   Output Shape         Param #     Connected to                     \n",
      "==================================================================================================\n",
      " input_2 (InputLayer)           [(None, 30)]         0           []                               \n",
      "                                                                                                  \n",
      " tf.split_1 (TFOpLambda)        [(None, 9),          0           ['input_2[0][0]']                \n",
      "                                 (None, 9),                                                       \n",
      "                                 (None, 7),                                                       \n",
      "                                 (None, 5)]                                                       \n",
      "                                                                                                  \n",
      " dense_9 (Dense)                (None, 32)           320         ['tf.split_1[0][0]']             \n",
      "                                                                                                  \n",
      " dense_10 (Dense)               (None, 32)           320         ['tf.split_1[0][1]']             \n",
      "                                                                                                  \n",
      " dense_11 (Dense)               (None, 32)           256         ['tf.split_1[0][2]']             \n",
      "                                                                                                  \n",
      " dense_12 (Dense)               (None, 32)           192         ['tf.split_1[0][3]']             \n",
      "                                                                                                  \n",
      " concatenate_1 (Concatenate)    (None, 128)          0           ['dense_9[0][0]',                \n",
      "                                                                  'dense_10[0][0]',               \n",
      "                                                                  'dense_11[0][0]',               \n",
      "                                                                  'dense_12[0][0]']               \n",
      "                                                                                                  \n",
      " dense_13 (Dense)               (None, 1024)         132096      ['concatenate_1[0][0]']          \n",
      "                                                                                                  \n",
      " dropout_3 (Dropout)            (None, 1024)         0           ['dense_13[0][0]']               \n",
      "                                                                                                  \n",
      " dense_14 (Dense)               (None, 1024)         1049600     ['dropout_3[0][0]']              \n",
      "                                                                                                  \n",
      " dropout_4 (Dropout)            (None, 1024)         0           ['dense_14[0][0]']               \n",
      "                                                                                                  \n",
      " dense_15 (Dense)               (None, 512)          524800      ['dropout_4[0][0]']              \n",
      "                                                                                                  \n",
      " dropout_5 (Dropout)            (None, 512)          0           ['dense_15[0][0]']               \n",
      "                                                                                                  \n",
      " dense_16 (Dense)               (None, 256)          131328      ['dropout_5[0][0]']              \n",
      "                                                                                                  \n",
      " dense_17 (Dense)               (None, 34)           8738        ['dense_16[0][0]']               \n",
      "                                                                                                  \n",
      "==================================================================================================\n",
      "Total params: 1,847,650\n",
      "Trainable params: 1,847,650\n",
      "Non-trainable params: 0\n",
      "__________________________________________________________________________________________________\n"
     ]
    }
   ],
   "source": [
    "model.model.summary()"
   ]
  },
  {
   "cell_type": "code",
   "execution_count": null,
   "metadata": {},
   "outputs": [],
   "source": []
  }
 ],
 "metadata": {
  "kernelspec": {
   "display_name": "Python 3.8.7 64-bit",
   "language": "python",
   "name": "python3"
  },
  "language_info": {
   "codemirror_mode": {
    "name": "ipython",
    "version": 3
   },
   "file_extension": ".py",
   "mimetype": "text/x-python",
   "name": "python",
   "nbconvert_exporter": "python",
   "pygments_lexer": "ipython3",
   "version": "3.8.7"
  },
  "orig_nbformat": 4,
  "vscode": {
   "interpreter": {
    "hash": "063da5ec96525b703b2b4b88ba5015678e29341c0c783b18b72decb99d23a1d2"
   }
  }
 },
 "nbformat": 4,
 "nbformat_minor": 2
}
